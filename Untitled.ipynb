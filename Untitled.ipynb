{
 "cells": [
  {
   "cell_type": "code",
   "execution_count": 6,
   "id": "381abb4e-a673-460e-a444-9bbedf184470",
   "metadata": {},
   "outputs": [],
   "source": [
    "import numpy as np\n",
    "import scipy.io\n",
    "mat = scipy.io.loadmat('data/beedance/beedance-1.mat')\n"
   ]
  },
  {
   "cell_type": "code",
   "execution_count": 7,
   "id": "feb4df7a-83da-4981-ad39-9a3f2a6f737c",
   "metadata": {},
   "outputs": [
    {
     "data": {
      "text/plain": [
       "{'__header__': b'MATLAB 5.0 MAT-file Platform: posix, Created on: Wed Nov  1 15:32:43 2017',\n",
       " '__version__': '1.0',\n",
       " '__globals__': [],\n",
       " 'Y': array([[0.34505421, 0.76464539, 0.54221329],\n",
       "        [0.32433136, 0.77659554, 0.47098108],\n",
       "        [0.30748942, 0.77960098, 0.4279893 ],\n",
       "        ...,\n",
       "        [0.6162483 , 0.21170825, 0.36854878],\n",
       "        [0.6050455 , 0.21422565, 0.68399638],\n",
       "        [0.62507353, 0.19284757, 0.30645727]]),\n",
       " 'L': array([[0],\n",
       "        [0],\n",
       "        [0],\n",
       "        ...,\n",
       "        [0],\n",
       "        [0],\n",
       "        [0]], dtype=int64)}"
      ]
     },
     "execution_count": 7,
     "metadata": {},
     "output_type": "execute_result"
    }
   ],
   "source": [
    "mat"
   ]
  },
  {
   "cell_type": "code",
   "execution_count": 8,
   "id": "de8670b1-6a52-454d-b225-be54e978a758",
   "metadata": {},
   "outputs": [],
   "source": [
    "T = mat['Y']\n",
    "L = mat['L'] "
   ]
  },
  {
   "cell_type": "code",
   "execution_count": 9,
   "id": "dce32c09-c99c-460e-b886-8681fdb1dd63",
   "metadata": {},
   "outputs": [
    {
     "data": {
      "text/plain": [
       "array([[0.34505421, 0.76464539, 0.54221329],\n",
       "       [0.32433136, 0.77659554, 0.47098108],\n",
       "       [0.30748942, 0.77960098, 0.4279893 ],\n",
       "       ...,\n",
       "       [0.6162483 , 0.21170825, 0.36854878],\n",
       "       [0.6050455 , 0.21422565, 0.68399638],\n",
       "       [0.62507353, 0.19284757, 0.30645727]])"
      ]
     },
     "execution_count": 9,
     "metadata": {},
     "output_type": "execute_result"
    }
   ],
   "source": [
    "T"
   ]
  },
  {
   "cell_type": "code",
   "execution_count": 11,
   "id": "c41ea4e6-ac80-4b3d-a2a3-902fcc90638e",
   "metadata": {},
   "outputs": [
    {
     "data": {
      "text/plain": [
       "19"
      ]
     },
     "execution_count": 11,
     "metadata": {},
     "output_type": "execute_result"
    }
   ],
   "source": [
    "L.sum()"
   ]
  },
  {
   "cell_type": "code",
   "execution_count": null,
   "id": "6bef9cf9-0df9-4ede-b7f3-04ca0866f1da",
   "metadata": {},
   "outputs": [],
   "source": []
  }
 ],
 "metadata": {
  "kernelspec": {
   "display_name": "Python 3 (ipykernel)",
   "language": "python",
   "name": "python3"
  },
  "language_info": {
   "codemirror_mode": {
    "name": "ipython",
    "version": 3
   },
   "file_extension": ".py",
   "mimetype": "text/x-python",
   "name": "python",
   "nbconvert_exporter": "python",
   "pygments_lexer": "ipython3",
   "version": "3.11.5"
  }
 },
 "nbformat": 4,
 "nbformat_minor": 5
}
